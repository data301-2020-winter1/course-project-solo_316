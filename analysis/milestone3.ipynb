{
 "cells": [
  {
   "cell_type": "markdown",
   "metadata": {},
   "source": [
    "# Introduction\n",
    "\n",
    "### data set intro \n",
    "\n",
    "The data was created by university of california irvine, The datas main goal is to Predict whether income exceeds $50K/yr based on census data. Also known as \"Census Income\" dataset. the Extraction of data was done by Barry Becker from the 1994 Census database. The pupose of the data collected is mainliy for public intrest.\n",
    "\n",
    "The data goes into detail about income in America giving different information about each individual and their income. the information it gives on each individual is age, workclass, education level, marital status occupation realationship, race, sex, hours per week of work, and what country an individual is from. The main prediction the data makes based on the related information is whether or not the individual has an income greater than or less than 50k a year. I hope to use this dataset to find information about income in america as well as the different factors and correlations I can make in the data set. I am interested in the opportunities that the data set presents in relation to the different categories that are available to interpret. \n",
    "\n",
    "### Reserch Questions \n",
    "\n",
    "RQ 1: What race on average works the most hours per week?\n",
    "\n",
    "RQ 2: Is there a pattern in relation to age on whether or not an age group is predicted to make less than 50k?"
   ]
  },
  {
   "cell_type": "code",
   "execution_count": 37,
   "metadata": {},
   "outputs": [
    {
     "data": {
      "text/html": [
       "<div>\n",
       "<style scoped>\n",
       "    .dataframe tbody tr th:only-of-type {\n",
       "        vertical-align: middle;\n",
       "    }\n",
       "\n",
       "    .dataframe tbody tr th {\n",
       "        vertical-align: top;\n",
       "    }\n",
       "\n",
       "    .dataframe thead th {\n",
       "        text-align: right;\n",
       "    }\n",
       "</style>\n",
       "<table border=\"1\" class=\"dataframe\">\n",
       "  <thead>\n",
       "    <tr style=\"text-align: right;\">\n",
       "      <th></th>\n",
       "      <th>age</th>\n",
       "      <th>workclass</th>\n",
       "      <th>education</th>\n",
       "      <th>marital.status</th>\n",
       "      <th>occupation</th>\n",
       "      <th>relationship</th>\n",
       "      <th>race</th>\n",
       "      <th>sex</th>\n",
       "      <th>hours.per.week</th>\n",
       "      <th>native.country</th>\n",
       "      <th>income</th>\n",
       "    </tr>\n",
       "  </thead>\n",
       "  <tbody>\n",
       "    <tr>\n",
       "      <th>1</th>\n",
       "      <td>82</td>\n",
       "      <td>Private</td>\n",
       "      <td>HS-grad</td>\n",
       "      <td>Widowed</td>\n",
       "      <td>Exec-managerial</td>\n",
       "      <td>Not-in-family</td>\n",
       "      <td>White</td>\n",
       "      <td>Female</td>\n",
       "      <td>18</td>\n",
       "      <td>United-States</td>\n",
       "      <td>&lt;=50K</td>\n",
       "    </tr>\n",
       "    <tr>\n",
       "      <th>3</th>\n",
       "      <td>54</td>\n",
       "      <td>Private</td>\n",
       "      <td>7th-8th</td>\n",
       "      <td>Divorced</td>\n",
       "      <td>Machine-op-inspct</td>\n",
       "      <td>Unmarried</td>\n",
       "      <td>White</td>\n",
       "      <td>Female</td>\n",
       "      <td>40</td>\n",
       "      <td>United-States</td>\n",
       "      <td>&lt;=50K</td>\n",
       "    </tr>\n",
       "    <tr>\n",
       "      <th>4</th>\n",
       "      <td>41</td>\n",
       "      <td>Private</td>\n",
       "      <td>Some-college</td>\n",
       "      <td>Separated</td>\n",
       "      <td>Prof-specialty</td>\n",
       "      <td>Own-child</td>\n",
       "      <td>White</td>\n",
       "      <td>Female</td>\n",
       "      <td>40</td>\n",
       "      <td>United-States</td>\n",
       "      <td>&lt;=50K</td>\n",
       "    </tr>\n",
       "    <tr>\n",
       "      <th>5</th>\n",
       "      <td>34</td>\n",
       "      <td>Private</td>\n",
       "      <td>HS-grad</td>\n",
       "      <td>Divorced</td>\n",
       "      <td>Other-service</td>\n",
       "      <td>Unmarried</td>\n",
       "      <td>White</td>\n",
       "      <td>Female</td>\n",
       "      <td>45</td>\n",
       "      <td>United-States</td>\n",
       "      <td>&lt;=50K</td>\n",
       "    </tr>\n",
       "    <tr>\n",
       "      <th>6</th>\n",
       "      <td>38</td>\n",
       "      <td>Private</td>\n",
       "      <td>10th</td>\n",
       "      <td>Separated</td>\n",
       "      <td>Adm-clerical</td>\n",
       "      <td>Unmarried</td>\n",
       "      <td>White</td>\n",
       "      <td>Male</td>\n",
       "      <td>40</td>\n",
       "      <td>United-States</td>\n",
       "      <td>&lt;=50K</td>\n",
       "    </tr>\n",
       "    <tr>\n",
       "      <th>...</th>\n",
       "      <td>...</td>\n",
       "      <td>...</td>\n",
       "      <td>...</td>\n",
       "      <td>...</td>\n",
       "      <td>...</td>\n",
       "      <td>...</td>\n",
       "      <td>...</td>\n",
       "      <td>...</td>\n",
       "      <td>...</td>\n",
       "      <td>...</td>\n",
       "      <td>...</td>\n",
       "    </tr>\n",
       "    <tr>\n",
       "      <th>32556</th>\n",
       "      <td>22</td>\n",
       "      <td>Private</td>\n",
       "      <td>Some-college</td>\n",
       "      <td>Never-married</td>\n",
       "      <td>Protective-serv</td>\n",
       "      <td>Not-in-family</td>\n",
       "      <td>White</td>\n",
       "      <td>Male</td>\n",
       "      <td>40</td>\n",
       "      <td>United-States</td>\n",
       "      <td>&lt;=50K</td>\n",
       "    </tr>\n",
       "    <tr>\n",
       "      <th>32557</th>\n",
       "      <td>27</td>\n",
       "      <td>Private</td>\n",
       "      <td>Assoc-acdm</td>\n",
       "      <td>Married-civ-spouse</td>\n",
       "      <td>Tech-support</td>\n",
       "      <td>Wife</td>\n",
       "      <td>White</td>\n",
       "      <td>Female</td>\n",
       "      <td>38</td>\n",
       "      <td>United-States</td>\n",
       "      <td>&lt;=50K</td>\n",
       "    </tr>\n",
       "    <tr>\n",
       "      <th>32558</th>\n",
       "      <td>40</td>\n",
       "      <td>Private</td>\n",
       "      <td>HS-grad</td>\n",
       "      <td>Married-civ-spouse</td>\n",
       "      <td>Machine-op-inspct</td>\n",
       "      <td>Husband</td>\n",
       "      <td>White</td>\n",
       "      <td>Male</td>\n",
       "      <td>40</td>\n",
       "      <td>United-States</td>\n",
       "      <td>&gt;50K</td>\n",
       "    </tr>\n",
       "    <tr>\n",
       "      <th>32559</th>\n",
       "      <td>58</td>\n",
       "      <td>Private</td>\n",
       "      <td>HS-grad</td>\n",
       "      <td>Widowed</td>\n",
       "      <td>Adm-clerical</td>\n",
       "      <td>Unmarried</td>\n",
       "      <td>White</td>\n",
       "      <td>Female</td>\n",
       "      <td>40</td>\n",
       "      <td>United-States</td>\n",
       "      <td>&lt;=50K</td>\n",
       "    </tr>\n",
       "    <tr>\n",
       "      <th>32560</th>\n",
       "      <td>22</td>\n",
       "      <td>Private</td>\n",
       "      <td>HS-grad</td>\n",
       "      <td>Never-married</td>\n",
       "      <td>Adm-clerical</td>\n",
       "      <td>Own-child</td>\n",
       "      <td>White</td>\n",
       "      <td>Male</td>\n",
       "      <td>20</td>\n",
       "      <td>United-States</td>\n",
       "      <td>&lt;=50K</td>\n",
       "    </tr>\n",
       "  </tbody>\n",
       "</table>\n",
       "<p>30162 rows × 11 columns</p>\n",
       "</div>"
      ],
      "text/plain": [
       "       age workclass     education      marital.status         occupation  \\\n",
       "1       82   Private       HS-grad             Widowed    Exec-managerial   \n",
       "3       54   Private       7th-8th            Divorced  Machine-op-inspct   \n",
       "4       41   Private  Some-college           Separated     Prof-specialty   \n",
       "5       34   Private       HS-grad            Divorced      Other-service   \n",
       "6       38   Private          10th           Separated       Adm-clerical   \n",
       "...    ...       ...           ...                 ...                ...   \n",
       "32556   22   Private  Some-college       Never-married    Protective-serv   \n",
       "32557   27   Private    Assoc-acdm  Married-civ-spouse       Tech-support   \n",
       "32558   40   Private       HS-grad  Married-civ-spouse  Machine-op-inspct   \n",
       "32559   58   Private       HS-grad             Widowed       Adm-clerical   \n",
       "32560   22   Private       HS-grad       Never-married       Adm-clerical   \n",
       "\n",
       "        relationship   race     sex  hours.per.week native.country income  \n",
       "1      Not-in-family  White  Female              18  United-States  <=50K  \n",
       "3          Unmarried  White  Female              40  United-States  <=50K  \n",
       "4          Own-child  White  Female              40  United-States  <=50K  \n",
       "5          Unmarried  White  Female              45  United-States  <=50K  \n",
       "6          Unmarried  White    Male              40  United-States  <=50K  \n",
       "...              ...    ...     ...             ...            ...    ...  \n",
       "32556  Not-in-family  White    Male              40  United-States  <=50K  \n",
       "32557           Wife  White  Female              38  United-States  <=50K  \n",
       "32558        Husband  White    Male              40  United-States   >50K  \n",
       "32559      Unmarried  White  Female              40  United-States  <=50K  \n",
       "32560      Own-child  White    Male              20  United-States  <=50K  \n",
       "\n",
       "[30162 rows x 11 columns]"
      ]
     },
     "execution_count": 37,
     "metadata": {},
     "output_type": "execute_result"
    }
   ],
   "source": [
    "from scripts.project_functions import *\n",
    "\n",
    "df = project_functions.load_and_process(r\"..\\data\\raw\\adult.csv\")\n",
    "df"
   ]
  },
  {
   "cell_type": "markdown",
   "metadata": {},
   "source": [
    "## Data Set \n",
    "\n",
    "this data set has 10 unique collums \n",
    "1. **age** represents the individuals age.\n",
    "2. **workclass** represent type of buisness an individual works for, for example Private means privately owned company local-goverment means they work for the local goverment and so on. \n",
    "3. **education** represent the highest level of education an indivual has completed\n",
    "4. **marital.status** represents the last know status of an indivduals relationship in relation to mariage \n",
    "5. **occupation** represents the specific feild an indivdual works in \n",
    "6. **relationship** represents an indiviuals relathionship in regards to family status \n",
    "7. **race** represents an individuals race \n",
    "8. **sex** represents an indivuals gender \n",
    "9. **hours.per.week** represents on average how many hours per week an individual works \n",
    "10. **native.country** represents where an individual is originaly from "
   ]
  },
  {
   "cell_type": "markdown",
   "metadata": {},
   "source": [
    "# Analysis\n",
    "\n"
   ]
  },
  {
   "cell_type": "code",
   "execution_count": 23,
   "metadata": {
    "scrolled": true
   },
   "outputs": [
    {
     "data": {
      "text/plain": [
       "<AxesSubplot:xlabel='hours.per.week', ylabel='race'>"
      ]
     },
     "execution_count": 23,
     "metadata": {},
     "output_type": "execute_result"
    },
    {
     "data": {
      "image/png": "[encoded data removed]",
      "text/plain": [
       "<Figure size 432x288 with 1 Axes>"
      ]
     },
     "metadata": {
      "needs_background": "light"
     },
     "output_type": "display_data"
    }
   ],
   "source": [
    "df.plot(kind='scatter', x='hours.per.week', y='race')"
   ]
  },
  {
   "cell_type": "markdown",
   "metadata": {},
   "source": [
    "### Graph 1 analysis \n",
    "this graph shows hours per week of work in relation to race. White race is the most common in the data set with the majority of races workingon average similar hours. scatterplot alllows us to see the differnece in total individuals per week as well as the aveage hours. \n"
   ]
  },
  {
   "cell_type": "code",
   "execution_count": 61,
   "metadata": {},
   "outputs": [
    {
     "data": {
      "text/plain": [
       "<AxesSubplot:ylabel='Frequency'>"
      ]
     },
     "execution_count": 61,
     "metadata": {},
     "output_type": "execute_result"
    },
    {
     "data": {
      "image/png": "[encoded data removed]",
      "text/plain": [
       "<Figure size 864x432 with 1 Axes>"
      ]
     },
     "metadata": {
      "needs_background": "light"
     },
     "output_type": "display_data"
    }
   ],
   "source": [
    "df['hours.per.week'].plot(kind='hist', bins=10, figsize=(12,6), facecolor='green',edgecolor='black') "
   ]
  },
  {
   "cell_type": "markdown",
   "metadata": {},
   "source": [
    "### Graph 2 analysis \n",
    "This histogram allows us to more clearly see the average hours worked per individual than the privious scatterplot. this graph plots avaerage hourts worked against how often the specific number is applied to an individual "
   ]
  },
  {
   "cell_type": "code",
   "execution_count": 50,
   "metadata": {},
   "outputs": [
    {
     "data": {
      "text/plain": [
       "<seaborn.axisgrid.FacetGrid at 0x1b062885dc0>"
      ]
     },
     "execution_count": 50,
     "metadata": {},
     "output_type": "execute_result"
    },
    {
     "data": {
      "image/png": "[encoded data removed]",
      "text/plain": [
       "<Figure size 360x360 with 1 Axes>"
      ]
     },
     "metadata": {
      "needs_background": "light"
     },
     "output_type": "display_data"
    }
   ],
   "source": [
    "sns.displot(df['age'], kde=False, bins=72)"
   ]
  },
  {
   "cell_type": "markdown",
   "metadata": {},
   "source": [
    "### Graph 3 analysis \n",
    "this histogram is used to show the age distraabution of the dataset it finds that the average age range of the data is skewed to the right with the most common ages being between 30-40. \n"
   ]
  },
  {
   "cell_type": "code",
   "execution_count": 64,
   "metadata": {
    "scrolled": true
   },
   "outputs": [
    {
     "data": {
      "text/plain": [
       "<seaborn.axisgrid.FacetGrid at 0x1b00ca690d0>"
      ]
     },
     "execution_count": 64,
     "metadata": {},
     "output_type": "execute_result"
    },
    {
     "data": {
      "image/png": "[encoded data removed]",
      "text/plain": [
       "<Figure size 360x360 with 1 Axes>"
      ]
     },
     "metadata": {
      "needs_background": "light"
     },
     "output_type": "display_data"
    }
   ],
   "source": [
    "sns.catplot(x=\"income\", y=\"age\", data=df)"
   ]
  },
  {
   "cell_type": "markdown",
   "metadata": {},
   "source": [
    "### Graph 4 analysis \n",
    "this graph allows us to see that at eiother end of the age range there is a steady drop off in number of individuals that are predicted to make above 50k. this graph is made by compairing the age of indivduals against weather or not they are preedicted to make above or below 50k "
   ]
  },
  {
   "cell_type": "code",
   "execution_count": 71,
   "metadata": {},
   "outputs": [
    {
     "data": {
      "text/html": [
       "<div>\n",
       "<style scoped>\n",
       "    .dataframe tbody tr th:only-of-type {\n",
       "        vertical-align: middle;\n",
       "    }\n",
       "\n",
       "    .dataframe tbody tr th {\n",
       "        vertical-align: top;\n",
       "    }\n",
       "\n",
       "    .dataframe thead th {\n",
       "        text-align: right;\n",
       "    }\n",
       "</style>\n",
       "<table border=\"1\" class=\"dataframe\">\n",
       "  <thead>\n",
       "    <tr style=\"text-align: right;\">\n",
       "      <th></th>\n",
       "      <th>age</th>\n",
       "      <th>hours.per.week</th>\n",
       "    </tr>\n",
       "    <tr>\n",
       "      <th>race</th>\n",
       "      <th></th>\n",
       "      <th></th>\n",
       "    </tr>\n",
       "  </thead>\n",
       "  <tbody>\n",
       "    <tr>\n",
       "      <th>White</th>\n",
       "      <td>38.580612</td>\n",
       "      <td>41.204103</td>\n",
       "    </tr>\n",
       "    <tr>\n",
       "      <th>Asian-Pac-Islander</th>\n",
       "      <td>37.910615</td>\n",
       "      <td>40.500559</td>\n",
       "    </tr>\n",
       "    <tr>\n",
       "      <th>Amer-Indian-Eskimo</th>\n",
       "      <td>36.737762</td>\n",
       "      <td>40.426573</td>\n",
       "    </tr>\n",
       "    <tr>\n",
       "      <th>Other</th>\n",
       "      <td>33.601732</td>\n",
       "      <td>40.112554</td>\n",
       "    </tr>\n",
       "    <tr>\n",
       "      <th>Black</th>\n",
       "      <td>37.860845</td>\n",
       "      <td>38.674476</td>\n",
       "    </tr>\n",
       "  </tbody>\n",
       "</table>\n",
       "</div>"
      ],
      "text/plain": [
       "                          age  hours.per.week\n",
       "race                                         \n",
       "White               38.580612       41.204103\n",
       "Asian-Pac-Islander  37.910615       40.500559\n",
       "Amer-Indian-Eskimo  36.737762       40.426573\n",
       "Other               33.601732       40.112554\n",
       "Black               37.860845       38.674476"
      ]
     },
     "execution_count": 71,
     "metadata": {},
     "output_type": "execute_result"
    }
   ],
   "source": [
    "df.groupby(['race']).mean().sort_values('hours.per.week', ascending=False)\n"
   ]
  },
  {
   "cell_type": "markdown",
   "metadata": {},
   "source": [
    "### visual 5 analysis \n",
    "shows the avegae age of each race and the aveage hours worked per week by individuals in that race \n"
   ]
  },
  {
   "cell_type": "markdown",
   "metadata": {},
   "source": [
    "# Conclusion \n",
    "\n",
    "## observations of graphs\n",
    "- **graph 1** hours per week of work in relation to race. White race is the most common in the data set with the majority of races working similar hours.\n",
    "- **graph 2** shows average hours worked with the most common by far being 40\n",
    "- **graph 3** shows age range of data set with a good portion being in their 30 to 50s\n",
    "- **graph 4** shows that people that are predicted to make above 50k are not too young below 25 and not too old above 80       \n",
    "\n",
    "- **visual 5**  Shows average age and hours worked per week base on race    \n",
    "\n",
    "\n",
    "\n",
    "## Research questions\n",
    "\n",
    "- **RQ 1:** What race on average works the most hours per week?\n",
    "\n",
    "- **RQ 2:** Is there a pattern in relation to age on whether or not an age group is predicted to make less than 50k?\n",
    "\n",
    "## answers\n",
    "\n",
    "- **RQ1** I found that based of of visual 5 that the white race on average works the most hours, however they only work not evey 1 full hour m,ore than the next higest working race. Almost all the races work on average the same amout of hours per week with the lagest diffence between the white and black race where the white race worked almost 3 hours more per week, however this might be squed due to the dadt set having a much lager sample of white than black race. \n",
    "\n",
    "- **RQ2** I found that based on graph 4 there was a pattern that people in there ealy 20 and late teens where almost never predicted to have an income of over 50k whitch makes sense based on real world stats. also people over the age of 70 increasingly where predicted less to have an income over 50 k the older the age, however this might be afected by the data set having a lower number of entries that are over 70 compaied to in there mid 30s and 40s as shown by graph 3.\n"
   ]
  },
  {
   "cell_type": "code",
   "execution_count": null,
   "metadata": {},
   "outputs": [],
   "source": []
  }
 ],
 "metadata": {
  "kernelspec": {
   "display_name": "Python 3",
   "language": "python",
   "name": "python3"
  },
  "language_info": {
   "codemirror_mode": {
    "name": "ipython",
    "version": 3
   },
   "file_extension": ".py",
   "mimetype": "text/x-python",
   "name": "python",
   "nbconvert_exporter": "python",
   "pygments_lexer": "ipython3",
   "version": "3.8.3"
  }
 },
 "nbformat": 4,
 "nbformat_minor": 4
}
